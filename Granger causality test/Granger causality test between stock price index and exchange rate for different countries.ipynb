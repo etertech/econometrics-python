{
 "cells": [
  {
   "cell_type": "code",
   "execution_count": 11,
   "id": "b06fe220",
   "metadata": {},
   "outputs": [],
   "source": [
    "import pandas as pd\n",
    "import datetime\n",
    "import matplotlib.pyplot as plt\n",
    "import matplotlib\n",
    "import numpy as np\n",
    "from statsmodels.tsa.stattools import grangercausalitytests"
   ]
  },
  {
   "cell_type": "code",
   "execution_count": 49,
   "id": "744ce9e6",
   "metadata": {},
   "outputs": [],
   "source": [
    "#Read excel files\n",
    "file_name_dji = \"data/Dow Jones Industrial Average.xlsx\"\n",
    "file_name_exchange_rate = \"data/The nominal effective exchange rate.xlsx\"\n",
    "\n",
    "#start_time = datetime.datetime(2008, 8, 1)\n",
    "#end_time = datetime.datetime(2017, 8, 1)\n",
    "start_time = \"2008-08-01\"\n",
    "end_time = \"2017-08-01\"\n",
    "\n",
    "#Read data from files\n",
    "dji =  pd.read_excel(file_name_dji,dtype=str,header=0,parse_dates=['Date'],index_col='Date').sort_index()\n",
    "exchange_rate = pd.read_excel(file_name_exchange_rate,dtype=str,header=0,parse_dates=['Date'],index_col='Date').sort_index().dropna()\n",
    "\n",
    "#Get the data between given interval of time \n",
    "dji_interval=dji.loc[start_time:end_time]\n",
    "exchange_rate_interval=exchange_rate.loc[start_time:end_time]\n",
    "\n",
    "# merge by date indexes to get intersection part of dji and exchange rates\n",
    "df_merge=pd.merge(dji_interval,exchange_rate_interval, how='inner', left_index=True, right_index=True)\n",
    "\n",
    "\n",
    "\n",
    "\n"
   ]
  },
  {
   "cell_type": "code",
   "execution_count": 52,
   "id": "93fc2d6d",
   "metadata": {},
   "outputs": [
    {
     "name": "stdout",
     "output_type": "stream",
     "text": [
      "\n",
      "Granger Causality\n",
      "number of lags (no zero) 1\n",
      "ssr based F test:         F=0.8609  , p=0.3536  , df_denom=2262, df_num=1\n",
      "ssr based chi2 test:   chi2=0.8620  , p=0.3532  , df=1\n",
      "likelihood ratio test: chi2=0.8619  , p=0.3532  , df=1\n",
      "parameter F test:         F=0.8609  , p=0.3536  , df_denom=2262, df_num=1\n",
      "\n",
      "Granger Causality\n",
      "number of lags (no zero) 2\n",
      "ssr based F test:         F=1.4820  , p=0.2274  , df_denom=2259, df_num=2\n",
      "ssr based chi2 test:   chi2=2.9705  , p=0.2264  , df=2\n",
      "likelihood ratio test: chi2=2.9685  , p=0.2267  , df=2\n",
      "parameter F test:         F=1.4820  , p=0.2274  , df_denom=2259, df_num=2\n"
     ]
    },
    {
     "data": {
      "text/plain": [
       "{1: ({'ssr_ftest': (0.8608861934746989, 0.3535898064204688, 2262.0, 1),\n",
       "   'ssr_chi2test': (0.8620279523519864, 0.3531718051770263, 1),\n",
       "   'lrtest': (0.861863955949957, 0.35321760198229657, 1),\n",
       "   'params_ftest': (0.8608861934736142, 0.35358980642082005, 2262.0, 1.0)},\n",
       "  [<statsmodels.regression.linear_model.RegressionResultsWrapper at 0x1a57bb27490>,\n",
       "   <statsmodels.regression.linear_model.RegressionResultsWrapper at 0x1a57bb27730>,\n",
       "   array([[0., 1., 0.]])]),\n",
       " 2: ({'ssr_ftest': (1.4819572011371396, 0.22741338193091948, 2259.0, 2),\n",
       "   'ssr_chi2test': (2.9704746377817473, 0.22644859377002952, 2),\n",
       "   'lrtest': (2.968527639310196, 0.22666914864058774, 2),\n",
       "   'params_ftest': (1.48195720113746, 0.22741338193088287, 2259.0, 2.0)},\n",
       "  [<statsmodels.regression.linear_model.RegressionResultsWrapper at 0x1a57aedb160>,\n",
       "   <statsmodels.regression.linear_model.RegressionResultsWrapper at 0x1a57aedb190>,\n",
       "   array([[0., 0., 1., 0., 0.],\n",
       "          [0., 0., 0., 1., 0.]])])}"
      ]
     },
     "execution_count": 52,
     "metadata": {},
     "output_type": "execute_result"
    }
   ],
   "source": [
    "#\n",
    "grangercausalitytests(df_merge[['DJI', 'United States']], maxlag=2)"
   ]
  },
  {
   "cell_type": "code",
   "execution_count": 54,
   "id": "38f6826d",
   "metadata": {},
   "outputs": [
    {
     "name": "stdout",
     "output_type": "stream",
     "text": [
      "\n",
      "Granger Causality\n",
      "number of lags (no zero) 1\n",
      "ssr based F test:         F=2.2016  , p=0.1380  , df_denom=2262, df_num=1\n",
      "ssr based chi2 test:   chi2=2.2045  , p=0.1376  , df=1\n",
      "likelihood ratio test: chi2=2.2035  , p=0.1377  , df=1\n",
      "parameter F test:         F=2.2016  , p=0.1380  , df_denom=2262, df_num=1\n",
      "\n",
      "Granger Causality\n",
      "number of lags (no zero) 2\n",
      "ssr based F test:         F=80.0020 , p=0.0000  , df_denom=2259, df_num=2\n",
      "ssr based chi2 test:   chi2=160.3581, p=0.0000  , df=2\n",
      "likelihood ratio test: chi2=154.9337, p=0.0000  , df=2\n",
      "parameter F test:         F=80.0020 , p=0.0000  , df_denom=2259, df_num=2\n"
     ]
    },
    {
     "data": {
      "text/plain": [
       "{1: ({'ssr_ftest': (2.2016274034924055, 0.1380044401011416, 2262.0, 1),\n",
       "   'ssr_chi2test': (2.204547333735764, 0.13760428128910232, 1),\n",
       "   'lrtest': (2.2034751753021737, 0.13769999346250617, 1),\n",
       "   'params_ftest': (2.2016274034924193, 0.1380044401011416, 2262.0, 1.0)},\n",
       "  [<statsmodels.regression.linear_model.RegressionResultsWrapper at 0x1a5771fa4f0>,\n",
       "   <statsmodels.regression.linear_model.RegressionResultsWrapper at 0x1a57b52d040>,\n",
       "   array([[0., 1., 0.]])]),\n",
       " 2: ({'ssr_ftest': (80.00198035405928, 2.6969092968466282e-34, 2259.0, 2),\n",
       "   'ssr_chi2test': (160.35810847418344, 1.508965048817262e-35, 2),\n",
       "   'lrtest': (154.933741656037, 2.2728222331411227e-34, 2),\n",
       "   'params_ftest': (80.00198035320162, 2.6969092990064556e-34, 2259.0, 2.0)},\n",
       "  [<statsmodels.regression.linear_model.RegressionResultsWrapper at 0x1a5794d3ca0>,\n",
       "   <statsmodels.regression.linear_model.RegressionResultsWrapper at 0x1a5794ad3d0>,\n",
       "   array([[0., 0., 1., 0., 0.],\n",
       "          [0., 0., 0., 1., 0.]])])}"
      ]
     },
     "execution_count": 54,
     "metadata": {},
     "output_type": "execute_result"
    }
   ],
   "source": [
    "grangercausalitytests(df_merge[['United States', 'DJI']], maxlag=2)"
   ]
  },
  {
   "cell_type": "markdown",
   "id": "68da72c3",
   "metadata": {},
   "source": [
    "number of lags (no zero) 1：当lags为1时的检测结果\n",
    "ssr based F test：残差平方和F检验\n",
    "ssr based chi2 test：残差平方和卡方检验\n",
    "likelihood ratio test：似然比检验结果\n",
    "parr F testamete：参数 F 检验结果"
   ]
  },
  {
   "cell_type": "code",
   "execution_count": 43,
   "id": "93b90af5",
   "metadata": {},
   "outputs": [
    {
     "name": "stdout",
     "output_type": "stream",
     "text": [
      "             China  Japan   Korea Chinese Taipei United States\n",
      "Date                                                          \n",
      "2008-08-01   94.74  77.64  112.65         102.62            94\n",
      "2008-08-04   94.72   77.2  112.66         102.83         94.07\n",
      "2008-08-05   94.86  77.59  112.75         102.76         94.36\n",
      "2008-08-06   95.08  77.01  113.18          102.8         94.41\n",
      "2008-08-07   95.09  76.64  113.24         102.47         94.62\n",
      "...            ...    ...     ...            ...           ...\n",
      "2017-07-26  114.87  84.14  115.06         114.22        117.14\n",
      "2017-07-27  114.76  84.24  115.29         114.41         116.7\n",
      "2017-07-28  114.75  84.53  114.37         114.18        116.86\n",
      "2017-07-31  114.92  84.87  114.34         114.21        116.71\n",
      "2017-08-01  114.85  84.81  114.14         113.99        116.47\n",
      "\n",
      "[2348 rows x 5 columns]\n"
     ]
    }
   ],
   "source": [
    "print(exchange_rate_interval)"
   ]
  },
  {
   "cell_type": "code",
   "execution_count": 46,
   "id": "ce87da2c",
   "metadata": {},
   "outputs": [
    {
     "name": "stdout",
     "output_type": "stream",
     "text": [
      "             China  Japan   Korea Chinese Taipei United States\n",
      "Date                                                          \n",
      "2008-08-01   94.74  77.64  112.65         102.62            94\n",
      "2008-08-04   94.72   77.2  112.66         102.83         94.07\n",
      "2008-08-05   94.86  77.59  112.75         102.76         94.36\n",
      "2008-08-06   95.08  77.01  113.18          102.8         94.41\n",
      "2008-08-07   95.09  76.64  113.24         102.47         94.62\n",
      "...            ...    ...     ...            ...           ...\n",
      "2017-07-26  114.87  84.14  115.06         114.22        117.14\n",
      "2017-07-27  114.76  84.24  115.29         114.41         116.7\n",
      "2017-07-28  114.75  84.53  114.37         114.18        116.86\n",
      "2017-07-31  114.92  84.87  114.34         114.21        116.71\n",
      "2017-08-01  114.85  84.81  114.14         113.99        116.47\n",
      "\n",
      "[2348 rows x 5 columns]\n"
     ]
    }
   ],
   "source": [
    "print(exchange_rate_interval)"
   ]
  },
  {
   "cell_type": "code",
   "execution_count": 45,
   "id": "c56de9e9",
   "metadata": {},
   "outputs": [
    {
     "name": "stdout",
     "output_type": "stream",
     "text": [
      "                 DJI   China  Japan   Korea Chinese Taipei United States\n",
      "Date                                                                    \n",
      "2008-08-01  11326.32   94.74  77.64  112.65         102.62            94\n",
      "2008-08-04  11284.15   94.72   77.2  112.66         102.83         94.07\n",
      "2008-08-05  11615.77   94.86  77.59  112.75         102.76         94.36\n",
      "2008-08-06  11656.07   95.08  77.01  113.18          102.8         94.41\n",
      "2008-08-07  11431.43   95.09  76.64  113.24         102.47         94.62\n",
      "...              ...     ...    ...     ...            ...           ...\n",
      "2017-07-26  21711.01  114.87  84.14  115.06         114.22        117.14\n",
      "2017-07-27  21796.55  114.76  84.24  115.29         114.41         116.7\n",
      "2017-07-28  21830.31  114.75  84.53  114.37         114.18        116.86\n",
      "2017-07-31  21891.12  114.92  84.87  114.34         114.21        116.71\n",
      "2017-08-01  21963.92  114.85  84.81  114.14         113.99        116.47\n",
      "\n",
      "[2266 rows x 6 columns]\n"
     ]
    }
   ],
   "source": [
    "print(df_merge)"
   ]
  },
  {
   "cell_type": "code",
   "execution_count": 47,
   "id": "9e582744",
   "metadata": {},
   "outputs": [
    {
     "ename": "NameError",
     "evalue": "name 'df_merge' is not defined",
     "output_type": "error",
     "traceback": [
      "\u001b[1;31m---------------------------------------------------------------------------\u001b[0m",
      "\u001b[1;31mNameError\u001b[0m                                 Traceback (most recent call last)",
      "Input \u001b[1;32mIn [47]\u001b[0m, in \u001b[0;36m<cell line: 1>\u001b[1;34m()\u001b[0m\n\u001b[1;32m----> 1\u001b[0m \u001b[43mdf_merge\u001b[49m[[\u001b[38;5;124m'\u001b[39m\u001b[38;5;124mDJI\u001b[39m\u001b[38;5;124m'\u001b[39m, \u001b[38;5;124m'\u001b[39m\u001b[38;5;124mUnited States\u001b[39m\u001b[38;5;124m'\u001b[39m]]\n",
      "\u001b[1;31mNameError\u001b[0m: name 'df_merge' is not defined"
     ]
    }
   ],
   "source": []
  },
  {
   "cell_type": "code",
   "execution_count": null,
   "id": "5bf97319",
   "metadata": {},
   "outputs": [],
   "source": []
  }
 ],
 "metadata": {
  "kernelspec": {
   "display_name": "Python [conda env:dev] *",
   "language": "python",
   "name": "conda-env-dev-py"
  },
  "language_info": {
   "codemirror_mode": {
    "name": "ipython",
    "version": 3
   },
   "file_extension": ".py",
   "mimetype": "text/x-python",
   "name": "python",
   "nbconvert_exporter": "python",
   "pygments_lexer": "ipython3",
   "version": "3.9.13"
  }
 },
 "nbformat": 4,
 "nbformat_minor": 5
}
