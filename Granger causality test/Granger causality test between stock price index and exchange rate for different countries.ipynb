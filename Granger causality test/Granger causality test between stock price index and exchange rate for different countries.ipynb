{
 "cells": [
  {
   "cell_type": "code",
   "execution_count": 1,
   "id": "706a5075",
   "metadata": {},
   "outputs": [],
   "source": [
    "import pandas as pd\n",
    "import matplotlib.pyplot as plt\n",
    "import matplotlib\n",
    "import numpy as np\n",
    "import statsmodels.api as sm"
   ]
  },
  {
   "cell_type": "code",
   "execution_count": null,
   "id": "fc436b93",
   "metadata": {},
   "outputs": [],
   "source": [
    "#Read excel files\n",
    "file_name = \"中国宏观经济数据库.xls\"\n",
    "xls = pd.ExcelFile(file_name)\n",
    "factors = pd.read_excel(xls, \"Sheet0\", header=0)\n",
    "factors = factors[:-6]\n",
    "factors = factors.fillna(method='ffill')\n",
    "factors['指标名称'] = pd.to_datetime(factors['指标名称'], format='%Y/%m/%d')\n",
    "factors = factors.set_index(\"指标名称\")\n",
    "\n"
   ]
  }
 ],
 "metadata": {
  "kernelspec": {
   "display_name": "Python [conda env:dev] *",
   "language": "python",
   "name": "conda-env-dev-py"
  },
  "language_info": {
   "codemirror_mode": {
    "name": "ipython",
    "version": 3
   },
   "file_extension": ".py",
   "mimetype": "text/x-python",
   "name": "python",
   "nbconvert_exporter": "python",
   "pygments_lexer": "ipython3",
   "version": "3.9.13"
  }
 },
 "nbformat": 4,
 "nbformat_minor": 5
}
